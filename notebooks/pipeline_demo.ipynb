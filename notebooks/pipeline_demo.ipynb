{
  "cells": [
    {
      "cell_type": "markdown",
      "id": "aa4e2347",
      "metadata": {
        "id": "aa4e2347"
      },
      "source": [
        "# 📘 Dự đoán giá cổ phiếu Việt Nam\n",
        "\n",
        "Notebook này trình bày toàn bộ quy trình:\n",
        "1. Đọc dữ liệu từ `data/processed/`\n",
        "2. Huấn luyện các mô hình ML và DL\n",
        "3. Tổng hợp kết quả đánh giá\n",
        "4. Sinh báo cáo Markdown\n",
        "5. Vẽ biểu đồ MAPE top 10 mô hình\n"
      ]
    },
    {
      "cell_type": "code",
      "source": [
        "#Insert src, main_multi_model.py, summary_results.py, generate_report.py, plot_mape_top10.py"
      ],
      "metadata": {
        "id": "PpDmJ8ksX6-L"
      },
      "id": "PpDmJ8ksX6-L",
      "execution_count": null,
      "outputs": []
    },
    {
      "cell_type": "code",
      "execution_count": null,
      "id": "80964c06",
      "metadata": {
        "id": "80964c06"
      },
      "outputs": [],
      "source": [
        "import sys\n",
        "sys.path.append('/content/vn-stock-prediction/src')"
      ]
    },
    {
      "cell_type": "code",
      "execution_count": null,
      "id": "722586ab",
      "metadata": {
        "id": "722586ab"
      },
      "outputs": [],
      "source": [
        "!python vn-stock-prediction/main_multi_model.py"
      ]
    },
    {
      "cell_type": "code",
      "execution_count": null,
      "id": "4aab0589",
      "metadata": {
        "id": "4aab0589"
      },
      "outputs": [],
      "source": [
        "!python vn-stock-prediction/summary_results.py"
      ]
    },
    {
      "cell_type": "code",
      "execution_count": null,
      "id": "c40f37b7",
      "metadata": {
        "id": "c40f37b7"
      },
      "outputs": [],
      "source": [
        "!python vn-stock-prediction/generate_report.py"
      ]
    },
    {
      "cell_type": "code",
      "execution_count": null,
      "id": "52316b3f",
      "metadata": {
        "id": "52316b3f"
      },
      "outputs": [],
      "source": [
        "!python vn-stock-prediction/plot_mape_top10.py"
      ]
    },
    {
      "cell_type": "code",
      "execution_count": null,
      "id": "b3c61aaa",
      "metadata": {
        "id": "b3c61aaa"
      },
      "outputs": [],
      "source": [
        "from IPython.display import Image\n",
        "Image('vn-stock-prediction/reports/mape_top10.png')"
      ]
    },
    {
      "cell_type": "code",
      "execution_count": null,
      "id": "6b618ca1",
      "metadata": {
        "id": "6b618ca1"
      },
      "outputs": [],
      "source": [
        "with open('vn-stock-prediction/report.md', encoding='utf-8') as f:\n",
        "    print(f.read())"
      ]
    }
  ],
  "metadata": {
    "colab": {
      "provenance": []
    },
    "language_info": {
      "name": "python"
    },
    "kernelspec": {
      "name": "python3",
      "display_name": "Python 3"
    }
  },
  "nbformat": 4,
  "nbformat_minor": 5
}
